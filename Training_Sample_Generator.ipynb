{
 "cells": [
  {
   "cell_type": "code",
   "execution_count": 1,
   "metadata": {},
   "outputs": [],
   "source": [
    "from Tools import *\n",
    "# import all tool function from tool set"
   ]
  },
  {
   "cell_type": "code",
   "execution_count": 2,
   "metadata": {},
   "outputs": [
    {
     "name": "stdout",
     "output_type": "stream",
     "text": [
      "G:\\Python_Lab\\Proj\n"
     ]
    }
   ],
   "source": [
    "from PIL import Image, ImageFont, ImageDraw\n",
    "import numpy as np\n",
    "\n",
    "from random import randint, choice\n",
    "from math import sin, cos, radians, fabs\n",
    "\n",
    "import os,sys\n",
    "dir_path = os.path.abspath('.')\n",
    "print(dir_path)\n",
    "import matplotlib.pyplot as plt\n",
    "import matplotlib as mpl\n",
    "%matplotlib inline"
   ]
  },
  {
   "cell_type": "code",
   "execution_count": 3,
   "metadata": {},
   "outputs": [],
   "source": [
    "def GenerateOneChar(status=None, character=None, corp_r=20, ran_bias=5):\n",
    "    \"\"\"\n",
    "    status == 0 front stand\n",
    "    status == 1 head stand\n",
    "    radius generally < 50\n",
    "    ran_bias: random bias used in generating a single character\n",
    "    character: Chinese character to produce. is string-type\n",
    "    \"\"\"\n",
    "    bwh = 160 # width and height of background\n",
    "    iwh = (81, 90) # width and height of image\n",
    "    fontsize = 72\n",
    "    \n",
    "    if status == None:\n",
    "        status = 0\n",
    "    if status == 0:\n",
    "        angle = random.uniform(-30, 30) \n",
    "    else:\n",
    "        angle = random.uniform(150, 210) \n",
    "    \n",
    "    if character == None:\n",
    "        character = GetA_GB2312_Char()\n",
    "    \n",
    "    im = Image.new(\"RGBA\", iwh, (0,0,0,0)) # black font\n",
    "    \n",
    "    global dir_path \n",
    "    font = ImageFont.truetype(dir_path + \"\\\\Kai-Simplified-Bold.ttf\", fontsize)\n",
    "    \n",
    "    ch = ImageDraw.Draw(im)\n",
    "    ch.fontmode = \"1\"\n",
    "    ch.text((0, 0), character, font=font, fill=\"#000000\") # fill with black\n",
    "    #plt.imshow(im)\n",
    "    #plt.show()\n",
    "    im = CutOffRegion(im) # reserve only character region\n",
    "    #plt.imshow(im)\n",
    "    #plt.show()\n",
    "    \n",
    "    # roration\n",
    "    fore = im.rotate(angle, resample=Image.BICUBIC,expand=1)\n",
    "    width, height = fore.size\n",
    "    # zooming\n",
    "    scale = np.random.uniform(0.95, 1.05)\n",
    "    fore = fore.resize((int(width * scale), int(height * scale)), Image.ANTIALIAS)\n",
    "    width, height = fore.size\n",
    "    \n",
    "    #plt.imshow(fore)\n",
    "    #plt.show()\n",
    "    ##\n",
    "    background = Image.new(\"RGB\", (bwh, bwh), (255,255,255,255)) #white background\n",
    "    background.paste(fore, (bwh//2 - width // 2 + randint(-ran_bias, ran_bias),\\\n",
    "                            bwh//2 - height // 2 + randint(-ran_bias, ran_bias)), fore)\n",
    "    \n",
    "    return character,background.crop((bwh//2 - corp_r, bwh//2 - corp_r,\\\n",
    "                                      bwh//2 + corp_r, bwh//2 + corp_r))"
   ]
  },
  {
   "cell_type": "code",
   "execution_count": 18,
   "metadata": {},
   "outputs": [],
   "source": [
    "import sys,time\n",
    "def Generate(nums=10,corp_r=20,ran_bias=5,status=-1,path=None,random_c=False,outC=False):\n",
    "    \"\"\"\n",
    "    nums: the number of characters to produce\n",
    "    corp_r: radius of corping\n",
    "    ran_bias: random bias used in generating a single character\n",
    "    status: headstand or not\n",
    "    random_c: true if use randomly corping in generating a single character\n",
    "    outC: true if want to write characters into files. At this time, path should not be None\n",
    "    \"\"\"\n",
    "    \n",
    "    X = np.zeros((nums,40,40,1))\n",
    "    if status == 0:\n",
    "        y = np.zeros(nums)\n",
    "    elif status == 1:\n",
    "        y = np.ones(nums)\n",
    "    else:\n",
    "        y = np.zeros(nums)\n",
    "        for i in range(nums):\n",
    "            #randomly generate statuses\n",
    "            y[i] = np.random.binomial(1, 0.5)\n",
    "    if path == None:\n",
    "        path = dir_path\n",
    "        \n",
    "    for i in range(nums):\n",
    "        #cited and modified from http://hovertree.com/h/bjaf/opmktjog.htm\n",
    "        #print the progress\n",
    "        p = int(((i+1)/nums)*100)\n",
    "        String = '>'*(p//2)+' '*((100-p-1)//2)\n",
    "        sys.stdout.write('\\rPocessing: '+String+'[%s%%]'%(p))\n",
    "        sys.stdout.flush()\n",
    "        #############\n",
    "        if random_c == False:\n",
    "            Char,CharImg = GenerateOneChar(status=y[i],corp_r=corp_r)\n",
    "        else:\n",
    "            Char,CharImg = GenerateOneChar(status=y[i],corp_r=randint(20, 50))\n",
    "        \n",
    "        CharImg = CharImg.resize((40,40))\n",
    "        #CharImg2 = np.asarray(CharImg.convert('RGB').convert('L'),dtype='float64')\n",
    "        #CharImg2[CharImg2 <= 180] = 0\n",
    "        #CharImg2[CharImg2 > 180] = 255\n",
    "        #plt.imshow(Image.fromarray(CharImg2))\n",
    "        #plt.show()\n",
    "        CharImg = np.asarray(CharImg.convert('RGB').convert('L'),dtype='float64')\n",
    "        CharImg[CharImg <= 180] = 0\n",
    "        CharImg[CharImg > 180] = 255\n",
    "        \n",
    "        if outC == True:\n",
    "            filename = path+'\\\\'+\"%06d\"%(i)+Char+str(int(y[i]))+'.bmp'\n",
    "            #print(filename)\n",
    "            Image.fromarray(CharImg).convert('RGB').save(filename)\n",
    "        \n",
    "        X[i,:,:,:] = CharImg[:,:,None]\n",
    "        \n",
    "    return X, y"
   ]
  },
  {
   "cell_type": "code",
   "execution_count": 19,
   "metadata": {},
   "outputs": [
    {
     "name": "stdout",
     "output_type": "stream",
     "text": [
      "Pocessing: >>>>>>>>>>>>>>>>>>>>>>>>>>>>>>>>>>>>>>>>>>>>>>>>>>[100%]"
     ]
    }
   ],
   "source": [
    "Xr,yr=Generate(nums=131072,corp_r=35,ran_bias=10,status=-1,path='./tr',random_c=False,outC=True)"
   ]
  },
  {
   "cell_type": "code",
   "execution_count": 22,
   "metadata": {},
   "outputs": [],
   "source": [
    "np.save(\"Xr.npy\", Xr)\n",
    "np.save(\"yr.npy\", yr)"
   ]
  },
  {
   "cell_type": "code",
   "execution_count": 23,
   "metadata": {},
   "outputs": [
    {
     "name": "stdout",
     "output_type": "stream",
     "text": [
      "Pocessing: >>>>>>>>>>>>>>>>>>>>>>>>>>>>>>>>>>>>>>>>>>>>>>>>>>[100%]"
     ]
    }
   ],
   "source": [
    "Xs,ys=Generate(nums=2048,corp_r=35,ran_bias=10,status=-1,path='./ts',random_c=False,outC=True)"
   ]
  },
  {
   "cell_type": "code",
   "execution_count": 24,
   "metadata": {},
   "outputs": [],
   "source": [
    "np.save(\"Xs.npy\", Xs)\n",
    "np.save(\"ys.npy\", ys)"
   ]
  }
 ],
 "metadata": {
  "kernelspec": {
   "display_name": "Python 3",
   "language": "python",
   "name": "python3"
  },
  "language_info": {
   "codemirror_mode": {
    "name": "ipython",
    "version": 3
   },
   "file_extension": ".py",
   "mimetype": "text/x-python",
   "name": "python",
   "nbconvert_exporter": "python",
   "pygments_lexer": "ipython3",
   "version": "3.5.4"
  }
 },
 "nbformat": 4,
 "nbformat_minor": 2
}
